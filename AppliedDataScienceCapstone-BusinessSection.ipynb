{
 "cells": [
  {
   "cell_type": "markdown",
   "metadata": {},
   "source": [
    "# <h1 align=center> Introduction to Business Problem </h1>"
   ]
  },
  {
   "cell_type": "markdown",
   "metadata": {},
   "source": [
    "In this section we introduct the problem we are interested in and the business. The audience is a number of different types of individuals ranging from government employees to business owners. Different aspects of the problem are broken down to possible interest types."
   ]
  },
  {
   "cell_type": "markdown",
   "metadata": {},
   "source": [
    "## Problem of Interest"
   ]
  },
  {
   "cell_type": "markdown",
   "metadata": {},
   "source": [
    "We wish to understand the severity of a collision based on a variety of different aspects. We will focus on data that includes not only severity of collision and injuries, but also data that we feel could and would contribute to a collision. This information could be used in a variety of different aspects of the business world including but not limiting to: Insurance, Healthcare, Emergency Preparedness and Personel, and Motor Vehicle sales and repair. "
   ]
  },
  {
   "cell_type": "markdown",
   "metadata": {},
   "source": [
    "### How the problem ties to the various business models"
   ]
  },
  {
   "cell_type": "markdown",
   "metadata": {},
   "source": [
    "__Insurance__ : The severity of collision would indicate costs associated with such a collision. By being able to predict the severity of a collision based on some aspects of the surrounding environment, an insurance company could make better rates: increasing rates for drivers in poor conditions and decreasing rates for drivers under good conditions. You would only be able to use static variables such as location, climate, car type, etc. for this prediction as daily changing variables (except maybe averages) could not be included in a six month contract.\n",
    "\n",
    "__Healthcare__ : The severity of collisions would be very beneficial to healthcare. Knowing the conditions at which severe injury occurs would allow a hospital or emergency room to better plan both the need for supplies and the need to schedule personel at the appropriate times. This would allow the hospital to run more efficiently and smoothly.\n",
    "\n",
    "__Emergency Preparedness__ : The severity of collisions would allow cities, counties, and states to better plan their emergency personel including police presence, fire department size, and number of ambulances available at certain times. It would allow for long term planning making sure they have enough basic supplies and vehicles when static conditions, such as time of year, indicate that more severe accidents will occur as well as adjusting short term resources such as how many individuals are scheduled to be on call when easily changed variables, such as predicted rainfall, change.\n",
    "\n",
    "__Motor Vehicle Sales__ : If static conditions indicate there will be more severe collisions in a certain area, this will allow for better planning of supply as more vehicles will be needed to replace the vehicles that are totalled in the collision. It will also allow for the better planning of what types of vehicles are needed. If static conditions indicate that there will be more severe collisions, after a time the general public will want vehicles that are better at protecting the passengers in said vehicle. \n",
    "\n",
    "__Motor Vehicle Repair__ : If static conditions indicate there will be less severe collisions then businesses that repair vehicles can resonably assume that the vehicles can be fixed or at least salvagable. This may indicate the need to hire more mechanics or expand garage space so that the business has the ability to handle a larger work load.  \n",
    "    "
   ]
  },
  {
   "cell_type": "markdown",
   "metadata": {},
   "source": [
    "#### Data Background Information"
   ]
  },
  {
   "cell_type": "markdown",
   "metadata": {},
   "source": [
    "The data we obtained is from the Seattle area from January, 2004 until May, 2020. It is provided by the Seattle Department of Transportation (SDOT). It contains information about the severity of the accident, where the accident takes place, and a number of variables about the accident. "
   ]
  },
  {
   "cell_type": "code",
   "execution_count": null,
   "metadata": {},
   "outputs": [],
   "source": []
  }
 ],
 "metadata": {
  "kernelspec": {
   "display_name": "Python 3",
   "language": "python",
   "name": "python3"
  },
  "language_info": {
   "codemirror_mode": {
    "name": "ipython",
    "version": 3
   },
   "file_extension": ".py",
   "mimetype": "text/x-python",
   "name": "python",
   "nbconvert_exporter": "python",
   "pygments_lexer": "ipython3",
   "version": "3.7.6"
  }
 },
 "nbformat": 4,
 "nbformat_minor": 4
}
