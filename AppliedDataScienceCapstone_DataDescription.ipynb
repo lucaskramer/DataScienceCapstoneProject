{
 "cells": [
  {
   "cell_type": "markdown",
   "metadata": {},
   "source": [
    "# <h1 align=center> Description of Data </h1>"
   ]
  },
  {
   "cell_type": "markdown",
   "metadata": {},
   "source": [
    "## General Overview"
   ]
  },
  {
   "cell_type": "markdown",
   "metadata": {},
   "source": [
    "This dataset contains information about collisions that occured in Seattle, Washington from January 2004 until May 2020. There are 194673 records of collisions before cleaning the data. This should be sufficient to do a number of different types of analysis. Each data point pertains to a differnt collision over a broad range of different types of collisions. They range from head on collisions to hitting a parked car to backing into a fixed object. It also includes other data about the collisions including location of accidents, weather conditions, and time of day. We will go more detail about individual variables in the Variables subsection below. "
   ]
  },
  {
   "cell_type": "markdown",
   "metadata": {},
   "source": [
    "### Variables"
   ]
  },
  {
   "cell_type": "markdown",
   "metadata": {},
   "source": [
    " - <b>Severity:</b> This variable contains information about the overall severity of the accident. The values indicate property damage, injury, serious injury, or fatality. \n",
    " \n",
    " This is also the variable we wish to predict. We will use other datapoints to train our models to predict this variable. "
   ]
  },
  {
   "cell_type": "markdown",
   "metadata": {},
   "source": [
    "- <b> X,Y:</b> These variables are the latitude and logitude coordinates for the collision. This variable may indiciate that severity is dependent on general locations and not just certain intersections. We will attempt to use this data in a geospacial analysis as long as we can find corresponding map data."
   ]
  },
  {
   "cell_type": "markdown",
   "metadata": {},
   "source": [
    "- <b> ObjectID:</b> This variable is a ESRI unique indicator for each collision. As each value is unique and not assigned according to variables in the collision, we do not anticipate this variable contributing to any of our models."
   ]
  },
  {
   "cell_type": "markdown",
   "metadata": {},
   "source": [
    "- <b> Inckey: </b> This variable is a unique indicator for the collision. It is unknown if this datapoint is assigned by variable values, but we do not anticipate this variable contributing ot our models."
   ]
  },
  {
   "cell_type": "markdown",
   "metadata": {},
   "source": [
    "- <b> Coldetkey: </b> This variable is a unique indicator for the collision. It is unknown if this datapoint is assigned by variable values, but we do not anticipate this variable contributing to our models."
   ]
  },
  {
   "cell_type": "markdown",
   "metadata": {},
   "source": [
    "- <b> Reportno: </b> There is no information pertaining to this datapoint within the metadata. It is assumed that this variable is assigned by the police department responding to the incident and is used for internal record keeping purposes. We do not anticipate this variable contributing to our models. "
   ]
  },
  {
   "cell_type": "markdown",
   "metadata": {},
   "source": [
    "- <b> Status: </b> There is no information pertaining to this datapoint within the metadata. The variable values are either matched or unmatched. It is unclear what this indiciates. We will still include it in our analysis, but we are uncertain as to what kind of contribution this data point will have. Under normal circumstances, we would approach our supervisor or the person supplying the data as to where this variable comes from and what the data indicates. If important to a model, we will revisit this issue."
   ]
  },
  {
   "cell_type": "markdown",
   "metadata": {},
   "source": [
    "- <b> Addrtype </b> This variable indicates if the collision occured in an intersection, midblock, or alley. This more than likely will indicate something as the situations change depending on these situations. In alleys speeds are often lower, but there is less room to maneuver. Midblock you will probably have less t-collisions (the front of one car impacting the side door of another) and more head on or sideswipe type collisions. Intersections may have more t-collisions. These different situations may result in a difference in the severity. "
   ]
  },
  {
   "cell_type": "markdown",
   "metadata": {},
   "source": [
    "- <b> Intkey: </b> This variable corresponds to the intersection that occurs. It is blank if the collision did not occur at an intersection. With this in mind, it can only be used to analyse collisions at intersections and will have to be ignored if we are trying to analyze a larger set. It is uncertain at this time if this intersection also indicates location. It may be redundant with latitude and logitude data."
   ]
  },
  {
   "cell_type": "markdown",
   "metadata": {},
   "source": [
    "- <b> Location: </b> This is a general description of the location of the collision. Alley collisions are left blank. Other collisions appear to be the road the collision occured including bounds on the nearest cross streets."
   ]
  },
  {
   "cell_type": "markdown",
   "metadata": {},
   "source": [
    "- <b> Exceptrsncode:</b> There is no information in the metadata about this variable. By far, most data points do not contain any information for this variable. It is anticipated that this variable will not have an impact on any models."
   ]
  },
  {
   "cell_type": "markdown",
   "metadata": {},
   "source": [
    "- <b> Exceptrsndesc:</b> There is no information in the metadata about this variable. By far, most data points do not contain any information for this variable. It is anticipated that this variable will not have an impact on any models."
   ]
  },
  {
   "cell_type": "markdown",
   "metadata": {},
   "source": [
    "- <b> Severitydesc: </b> This variable contains information about the severity of the collision. It is unnecessary as it directly corresponds to the value found in the severity variable."
   ]
  },
  {
   "cell_type": "markdown",
   "metadata": {},
   "source": [
    "- <b> Collisiontype: </b> This variable contains information about the type of accident. It indicates if the collision occured with a parked car, a pedestrian, a bicycle, and other types of vehicles. It also indicates if the collision was head on, during a turn, and other possible collision situations. We anticipate this will have some sort of impact on the severity of the collision, but are uncertain as to how good a predictor and if it will be superceded by variables that could possibly predict this variable."
   ]
  },
  {
   "cell_type": "markdown",
   "metadata": {},
   "source": [
    "- <b> Personcount: </b> This variable indicates how many people are involved in the collision. A higher person count could possibly predict a more serious accident as there are more people who could be injured."
   ]
  },
  {
   "cell_type": "markdown",
   "metadata": {},
   "source": [
    "- <b> Pedcount: </b> This variable indicates how many pedestrians are involved in the collision. Involving a pedestrian in a vehicle collision is anticipated to result in a more serious collision. "
   ]
  },
  {
   "cell_type": "markdown",
   "metadata": {},
   "source": [
    "- <b> Pedcylcount: </b> This indicates how many bicycles were involved in the collision. Involving someone on a bicycle in a vehicle collision is anticipated to result in more serious collisions. It is unclear at this time if this variable and pedcount overlap. If so, this could lead to misrepresenting the severity of the collision. If we had direct access to those that record this data, we would speak to them about this possiblity to help with clarity of our models."
   ]
  },
  {
   "cell_type": "markdown",
   "metadata": {},
   "source": [
    "- <b> Vehcount: </b> This variable indicates the number of vehicles in the collision. A higher vehicle count is anticipated to result in a more serious collision as more cars will increase the possibility of persons being injured or killed. This variable may be predicted and supersumed by other variables in our model such as personcount. "
   ]
  },
  {
   "cell_type": "markdown",
   "metadata": {},
   "source": [
    "- <b> Incdate: </b> This variable indicates the date of the collision. It is possible that year or time of year may help predict severity of collisions, but most likely will be supersumed by the variables that change due to date as well, such as weather and lighting conditions."
   ]
  },
  {
   "cell_type": "markdown",
   "metadata": {},
   "source": [
    "- <b> Incdttm: </b> This varible is a time stamp variable that indicates the time of the collision. There is an issue with this variable as some datapoints are only dates and some have times associated as well. We will analyse how many variables have a time associated with them, and if appropriate, use time of day to help predict severity if we have enough data."
   ]
  },
  {
   "cell_type": "markdown",
   "metadata": {},
   "source": [
    "- <b> Junctiontype: </b> This variable indicates what type of junction the collision occured at. It may be more indicative of severity as it includes information on how midblock and intersection have interacted. It separates midblock related to intersections, midblock not related to intersections, and driveway junctions into separate categories. This could indicate severity as vehicles are often going at different speeds in these different conditions. "
   ]
  },
  {
   "cell_type": "markdown",
   "metadata": {},
   "source": [
    "- <b> Sdot_code: </b> This variable includes a numerical code for the type of collision that has occured. It combines several other variables such as collisiontype and others. This may have help predict severity, but will most likely be supersumed by other variables that make up this one."
   ]
  },
  {
   "cell_type": "markdown",
   "metadata": {},
   "source": [
    "- <b> Sdot_Coldesc: </b> This variable describes the value found in Sdot_code and contains the exact same information. We will not need both variables. "
   ]
  },
  {
   "cell_type": "markdown",
   "metadata": {},
   "source": [
    "- <b> Inattentionind: </b> This variable indicates if one or more drivers were not paying attention. This may be tied to date as more and more drivers are using cellphones when driving. This impacts how well a driver could respond and probably will indicate severity."
   ]
  },
  {
   "cell_type": "markdown",
   "metadata": {},
   "source": [
    "- <b> Underinfl: </b> This variable indicates if the driver was operating a vehicle under the influence of drugs are alcohold. This data needs to be cleaned as different recorders, recorded some as Y/N and some as 1/0. This variable is highly anticipated to indicate severity."
   ]
  },
  {
   "cell_type": "markdown",
   "metadata": {},
   "source": [
    "- <b> Weather: </b> This variable indicates the weather conditions during the collision. Since this causes issues with visibility, braking, and other driving needs, it is highly anticipated that this will indicate severity."
   ]
  },
  {
   "cell_type": "markdown",
   "metadata": {},
   "source": [
    "- <b> Roadcond: </b> This variable indicates if a road is wet or dry during the collision. As this effects braking speed and distance, it is anticipated that this variable will indicate severity."
   ]
  },
  {
   "cell_type": "markdown",
   "metadata": {},
   "source": [
    "- <b> Lighcond: </b> This variable indicates the amount of light during the collision. It also indicates if there were streetlights that were on or not. Since the amount of light effects visibility, it is anticipated that this variable will indicate severity."
   ]
  },
  {
   "cell_type": "markdown",
   "metadata": {},
   "source": [
    "- <b> Pedrownotgrnt: </b> This variable indicates if the driver of the vehicle gave the right of way to a pedestrian found in the street. This could indicate severity, but may also be tied to other variables like inattentionind."
   ]
  },
  {
   "cell_type": "markdown",
   "metadata": {},
   "source": [
    "- <b> Sdotcolnum: </b> This variable is an indicator variable and is unique to the collision. It is anticipated that this will not indicate severity."
   ]
  },
  {
   "cell_type": "markdown",
   "metadata": {},
   "source": [
    "- <b> Speeding: </b> This variable indicates if a person was speeding before a collision. As this effects the ability to stop, it is anticipated that this variable will highly indicate severity."
   ]
  },
  {
   "cell_type": "markdown",
   "metadata": {},
   "source": [
    "- <b> St_colcode: </b> This variable is assigned according to the aspects of the collision. While this may mean it will play a role in indicating severity, we anticipate that other variables that make up this one will supersede this variable."
   ]
  },
  {
   "cell_type": "markdown",
   "metadata": {},
   "source": [
    "- <b> St_coldesc: </b> This variable is the description that is associated with st_colcode. We will not need both variables."
   ]
  },
  {
   "cell_type": "markdown",
   "metadata": {},
   "source": [
    "- <b> Seglanekey: </b> This variable corresponds to the lane segment where the collision occured. This may play a role in indicating severity, but care must be taken as if there is not a lane segment associated with the collision, such as if it occured at an intersection or residential street, a 0 was placed in the variable. This means the variable must be cleaned to accurately use this information."
   ]
  },
  {
   "cell_type": "markdown",
   "metadata": {},
   "source": [
    "- <b> Crosswalkkey: </b> This variable corresponds to the crosswalk where the collision occured. Like Seglanekey, if it did not occur at a crosswalk, a value of 0 was inputed. This variable must be cleaned before use."
   ]
  },
  {
   "cell_type": "markdown",
   "metadata": {},
   "source": [
    "- <b> Hitparkedcar: </b> This variable corresponds to if a parked car was involed in the collision. This may indictate some severity since most parked cars are only on streets with lower speed limits. It also reduces the number of people involved in the collision, hence reducing the possiblity of injuries. This variable may be superceded by others or a combination of other variables."
   ]
  },
  {
   "cell_type": "code",
   "execution_count": null,
   "metadata": {},
   "outputs": [],
   "source": []
  }
 ],
 "metadata": {
  "kernelspec": {
   "display_name": "Python 3",
   "language": "python",
   "name": "python3"
  },
  "language_info": {
   "codemirror_mode": {
    "name": "ipython",
    "version": 3
   },
   "file_extension": ".py",
   "mimetype": "text/x-python",
   "name": "python",
   "nbconvert_exporter": "python",
   "pygments_lexer": "ipython3",
   "version": "3.7.6"
  }
 },
 "nbformat": 4,
 "nbformat_minor": 4
}
