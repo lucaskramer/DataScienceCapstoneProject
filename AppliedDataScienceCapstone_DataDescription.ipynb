{
 "cells": [
  {
   "cell_type": "markdown",
   "metadata": {},
   "source": [
    "# <h1 align=center> Description of Data </h1>"
   ]
  },
  {
   "cell_type": "markdown",
   "metadata": {},
   "source": [
    "## General Overview"
   ]
  },
  {
   "cell_type": "markdown",
   "metadata": {},
   "source": [
    "This dataset contains information about collisions that occured in Seattle, Washington from January 2004 until May 2020. There are 194673 records of collisions before cleaning the data. This should be sufficient to do a number of different types of analysis. Each data point pertains to a differnt collision over a broad range of different types of collisions. They range from head on collisions to hitting a parked car to backing into a fixed object. It also includes other data about the collisions including location of accidents, weather conditions, and time of day. We will go more detail about individual variables in the Variables subsection below. "
   ]
  },
  {
   "cell_type": "markdown",
   "metadata": {},
   "source": [
    "### Variables"
   ]
  },
  {
   "cell_type": "markdown",
   "metadata": {},
   "source": [
    " - <b>Severity:</b> This variable contains information about the overall severity of the accident. The values indicate property damage, injury, serious injury, or fatality. It should be noted that there are only two variable values present in the data when there are four possiblities. There is no data to indicate any fatality accidents. This seems odd and was probably done intentionally. This could skew our results.\n",
    " \n",
    " This is also the variable we wish to predict. We will use other datapoints to train our models to predict this variable. "
   ]
  },
  {
   "cell_type": "markdown",
   "metadata": {},
   "source": [
    "- <b> X,Y:</b> These variables are the latitude and logitude coordinates for the collision. This variable may indiciate that severity is dependent on general locations and not just certain intersections. We will attempt to use this data in a geospacial analysis as long as we can find corresponding map data."
   ]
  },
  {
   "cell_type": "markdown",
   "metadata": {},
   "source": [
    "- <b> ObjectID:</b> This variable is a ESRI unique indicator for each collision. As each value is unique and not assigned according to variables in the collision, we do not anticipate this variable contributing to any of our models."
   ]
  },
  {
   "cell_type": "markdown",
   "metadata": {},
   "source": [
    "- <b> Inckey: </b> This variable is a unique indicator for the collision. It is unknown if this datapoint is assigned by variable values, but we do not anticipate this variable contributing ot our models."
   ]
  },
  {
   "cell_type": "markdown",
   "metadata": {},
   "source": [
    "- <b> Coldetkey: </b> This variable is a unique indicator for the collision. It is unknown if this datapoint is assigned by variable values, but we do not anticipate this variable contributing to our models."
   ]
  },
  {
   "cell_type": "markdown",
   "metadata": {},
   "source": [
    "- <b> Reportno: </b> There is no information pertaining to this datapoint within the metadata. It is assumed that this variable is assigned by the police department responding to the incident and is used for internal record keeping purposes. We do not anticipate this variable contributing to our models. "
   ]
  },
  {
   "cell_type": "markdown",
   "metadata": {},
   "source": [
    "- <b> Status: </b> There is no information pertaining to this datapoint within the metadata. The variable values are either matched or unmatched. It is unclear what this indiciates. We will still include it in our analysis, but we are uncertain as to what kind of contribution this data point will have. Under normal circumstances, we would approach our supervisor or the person supplying the data as to where this variable comes from and what the data indicates. If important to a model, we will revisit this issue."
   ]
  },
  {
   "cell_type": "markdown",
   "metadata": {},
   "source": [
    "- <b> Addrtype </b> This variable indicates if the collision occured in an intersection, midblock, or alley. This more than likely will indicate something as the situations change depending on these situations. In alleys speeds are often lower, but there is less room to maneuver. Midblock you will probably have less t-collisions (the front of one car impacting the side door of another) and more head on or sideswipe type collisions. Intersections may have more t-collisions. These different situations may result in a difference in the severity. "
   ]
  },
  {
   "cell_type": "markdown",
   "metadata": {},
   "source": [
    "- <b> Intkey: </b> This variable corresponds to the intersection that occurs. It is blank if the collision did not occur at an intersection. With this in mind, it can only be used to analyse collisions at intersections and will have to be ignored if we are trying to analyze a larger set. It is uncertain at this time if this intersection also indicates location. It may be redundant with latitude and logitude data."
   ]
  },
  {
   "cell_type": "markdown",
   "metadata": {},
   "source": [
    "- <b> Location: </b> This is a general description of the location of the collision. Alley collisions are left blank. Other collisions appear to be the road the collision occured including bounds on the nearest cross streets."
   ]
  },
  {
   "cell_type": "markdown",
   "metadata": {},
   "source": [
    "- <b> Exceptrsncode:</b> There is no information in the metadata about this variable. By far, most data points do not contain any information for this variable. It is anticipated that this variable will not have an impact on any models."
   ]
  },
  {
   "cell_type": "markdown",
   "metadata": {},
   "source": [
    "- <b> Exceptrsndesc:</b> There is no information in the metadata about this variable. By far, most data points do not contain any information for this variable. It is anticipated that this variable will not have an impact on any models."
   ]
  },
  {
   "cell_type": "markdown",
   "metadata": {},
   "source": [
    "- <b> Severitydesc: </b> This variable contains information about the severity of the collision. It is unnecessary as it directly corresponds to the value found in the severity variable."
   ]
  },
  {
   "cell_type": "markdown",
   "metadata": {},
   "source": [
    "- <b> Collisiontype: </b> This variable contains information about the type of accident. It indicates if the collision occured with a parked car, a pedestrian, a bicycle, and other types of vehicles. It also indicates if the collision was head on, during a turn, and other possible collision situations. We anticipate this will have some sort of impact on the severity of the collision, but are uncertain as to how good a predictor and if it will be superceded by variables that could possibly predict this variable."
   ]
  },
  {
   "cell_type": "markdown",
   "metadata": {},
   "source": [
    "- <b> Personcount: </b> This variable indicates how many people are involved in the collision. A higher person count could possibly predict a more serious accident as there are more people who could be injured."
   ]
  },
  {
   "cell_type": "markdown",
   "metadata": {},
   "source": [
    "- <b> Pedcount: </b> This variable indicates how many pedestrians are involved in the collision. Involving a pedestrian in a vehicle collision is anticipated to result in a more serious collision. "
   ]
  },
  {
   "cell_type": "markdown",
   "metadata": {},
   "source": [
    "- <b> Pedcylcount: </b> This indicates how many bicycles were involved in the collision. Involving someone on a bicycle in a vehicle collision is anticipated to result in more serious collisions. It is unclear at this time if this variable and pedcount overlap. If so, this could lead to misrepresenting the severity of the collision. If we had direct access to those that record this data, we would speak to them about this possiblity to help with clarity of our models."
   ]
  },
  {
   "cell_type": "markdown",
   "metadata": {},
   "source": [
    "- <b> Vehcount: </b> This variable indicates the number of vehicles in the collision. A higher vehicle count is anticipated to result in a more serious collision as more cars will increase the possibility of persons being injured or killed. This variable may be predicted and supersumed by other variables in our model such as personcount. "
   ]
  },
  {
   "cell_type": "markdown",
   "metadata": {},
   "source": [
    "- <b> Incdate: </b> This variable indicates the date of the collision. It is possible that year or time of year may help predict severity of collisions, but most likely will be supersumed by the variables that change due to date as well, such as weather and lighting conditions."
   ]
  },
  {
   "cell_type": "markdown",
   "metadata": {},
   "source": [
    "- <b> Incdttm: </b> This varible is a time stamp variable that indicates the time of the collision. There is an issue with this variable as some datapoints are only dates and some have times associated as well. We will analyse how many variables have a time associated with them, and if appropriate, use time of day to help predict severity if we have enough data."
   ]
  },
  {
   "cell_type": "markdown",
   "metadata": {},
   "source": [
    "- <b> Junctiontype: </b> This variable indicates what type of junction the collision occured at. It may be more indicative of severity as it includes information on how midblock and intersection have interacted. It separates midblock related to intersections, midblock not related to intersections, and driveway junctions into separate categories. This could indicate severity as vehicles are often going at different speeds in these different conditions. "
   ]
  },
  {
   "cell_type": "markdown",
   "metadata": {},
   "source": [
    "- <b> Sdot_code: </b> This variable includes a numerical code for the type of collision that has occured. It combines several other variables such as collisiontype and others. This may have help predict severity, but will most likely be supersceded by other variables that make up this one."
   ]
  },
  {
   "cell_type": "markdown",
   "metadata": {},
   "source": [
    "- <b> Sdot_Coldesc: </b> This variable describes the value found in Sdot_code and contains the exact same information. We will not need both variables. "
   ]
  },
  {
   "cell_type": "markdown",
   "metadata": {},
   "source": [
    "- <b> Inattentionind: </b> This variable indicates if one or more drivers were not paying attention. This may be tied to date as more and more drivers are using cellphones when driving. This impacts how well a driver could respond and probably will indicate severity."
   ]
  },
  {
   "cell_type": "markdown",
   "metadata": {},
   "source": [
    "- <b> Underinfl: </b> This variable indicates if the driver was operating a vehicle under the influence of drugs are alcohold. This data needs to be cleaned as different recorders, recorded some as Y/N and some as 1/0. This variable is highly anticipated to indicate severity."
   ]
  },
  {
   "cell_type": "markdown",
   "metadata": {},
   "source": [
    "- <b> Weather: </b> This variable indicates the weather conditions during the collision. Since this causes issues with visibility, braking, and other driving needs, it is highly anticipated that this will indicate severity."
   ]
  },
  {
   "cell_type": "markdown",
   "metadata": {},
   "source": [
    "- <b> Roadcond: </b> This variable indicates if a road is wet or dry during the collision. As this effects braking speed and distance, it is anticipated that this variable will indicate severity."
   ]
  },
  {
   "cell_type": "markdown",
   "metadata": {},
   "source": [
    "- <b> Lighcond: </b> This variable indicates the amount of light during the collision. It also indicates if there were streetlights that were on or not. Since the amount of light effects visibility, it is anticipated that this variable will indicate severity."
   ]
  },
  {
   "cell_type": "markdown",
   "metadata": {},
   "source": [
    "- <b> Pedrownotgrnt: </b> This variable indicates if the driver of the vehicle gave the right of way to a pedestrian found in the street. This could indicate severity, but may also be tied to other variables like inattentionind."
   ]
  },
  {
   "cell_type": "markdown",
   "metadata": {},
   "source": [
    "- <b> Sdotcolnum: </b> This variable is an indicator variable and is unique to the collision. It is anticipated that this will not indicate severity."
   ]
  },
  {
   "cell_type": "markdown",
   "metadata": {},
   "source": [
    "- <b> Speeding: </b> This variable indicates if a person was speeding before a collision. As this effects the ability to stop, it is anticipated that this variable will highly indicate severity."
   ]
  },
  {
   "cell_type": "markdown",
   "metadata": {},
   "source": [
    "- <b> St_colcode: </b> This variable is assigned according to the aspects of the collision. While this may mean it will play a role in indicating severity, we anticipate that other variables that make up this one will supersede this variable."
   ]
  },
  {
   "cell_type": "markdown",
   "metadata": {},
   "source": [
    "- <b> St_coldesc: </b> This variable is the description that is associated with st_colcode. We will not need both variables."
   ]
  },
  {
   "cell_type": "markdown",
   "metadata": {},
   "source": [
    "- <b> Seglanekey: </b> This variable corresponds to the lane segment where the collision occured. This may play a role in indicating severity, but care must be taken as if there is not a lane segment associated with the collision, such as if it occured at an intersection or residential street, a 0 was placed in the variable. This means the variable must be cleaned to accurately use this information."
   ]
  },
  {
   "cell_type": "markdown",
   "metadata": {},
   "source": [
    "- <b> Crosswalkkey: </b> This variable corresponds to the crosswalk where the collision occured. Like Seglanekey, if it did not occur at a crosswalk, a value of 0 was inputed. This variable must be cleaned before use."
   ]
  },
  {
   "cell_type": "markdown",
   "metadata": {},
   "source": [
    "- <b> Hitparkedcar: </b> This variable corresponds to if a parked car was involed in the collision. This may indictate some severity since most parked cars are only on streets with lower speed limits. It also reduces the number of people involved in the collision, hence reducing the possiblity of injuries. This variable may be superceded by others or a combination of other variables."
   ]
  },
  {
   "cell_type": "code",
   "execution_count": 10,
   "metadata": {},
   "outputs": [],
   "source": [
    "# Here we import the required libraries for our project. \n",
    "# We are importing more than is necessary in preparation to complete the project.\n",
    "import numpy as np\n",
    "import pandas as pd\n",
    "\n",
    "import itertools\n",
    "from sklearn import preprocessing\n",
    "\n",
    "import matplotlib.pyplot as plt\n",
    "import matplotlib.ticker as ticker\n",
    "from matplotlib.ticker import NullFormatter\n",
    "%matplotlib inline"
   ]
  },
  {
   "cell_type": "markdown",
   "metadata": {},
   "source": [
    "For examples, first we input the data"
   ]
  },
  {
   "cell_type": "code",
   "execution_count": 11,
   "metadata": {},
   "outputs": [
    {
     "name": "stderr",
     "output_type": "stream",
     "text": [
      "C:\\Users\\lucas\\anaconda3\\lib\\site-packages\\IPython\\core\\interactiveshell.py:3063: DtypeWarning: Columns (33) have mixed types.Specify dtype option on import or set low_memory=False.\n",
      "  interactivity=interactivity, compiler=compiler, result=result)\n"
     ]
    },
    {
     "data": {
      "text/html": [
       "<div>\n",
       "<style scoped>\n",
       "    .dataframe tbody tr th:only-of-type {\n",
       "        vertical-align: middle;\n",
       "    }\n",
       "\n",
       "    .dataframe tbody tr th {\n",
       "        vertical-align: top;\n",
       "    }\n",
       "\n",
       "    .dataframe thead th {\n",
       "        text-align: right;\n",
       "    }\n",
       "</style>\n",
       "<table border=\"1\" class=\"dataframe\">\n",
       "  <thead>\n",
       "    <tr style=\"text-align: right;\">\n",
       "      <th></th>\n",
       "      <th>SEVERITYCODE</th>\n",
       "      <th>X</th>\n",
       "      <th>Y</th>\n",
       "      <th>OBJECTID</th>\n",
       "      <th>INCKEY</th>\n",
       "      <th>COLDETKEY</th>\n",
       "      <th>REPORTNO</th>\n",
       "      <th>STATUS</th>\n",
       "      <th>ADDRTYPE</th>\n",
       "      <th>INTKEY</th>\n",
       "      <th>...</th>\n",
       "      <th>ROADCOND</th>\n",
       "      <th>LIGHTCOND</th>\n",
       "      <th>PEDROWNOTGRNT</th>\n",
       "      <th>SDOTCOLNUM</th>\n",
       "      <th>SPEEDING</th>\n",
       "      <th>ST_COLCODE</th>\n",
       "      <th>ST_COLDESC</th>\n",
       "      <th>SEGLANEKEY</th>\n",
       "      <th>CROSSWALKKEY</th>\n",
       "      <th>HITPARKEDCAR</th>\n",
       "    </tr>\n",
       "  </thead>\n",
       "  <tbody>\n",
       "    <tr>\n",
       "      <th>0</th>\n",
       "      <td>2.0</td>\n",
       "      <td>-122.323148</td>\n",
       "      <td>47.703140</td>\n",
       "      <td>1.0</td>\n",
       "      <td>1307.0</td>\n",
       "      <td>1307.0</td>\n",
       "      <td>3502005</td>\n",
       "      <td>Matched</td>\n",
       "      <td>Intersection</td>\n",
       "      <td>37475.0</td>\n",
       "      <td>...</td>\n",
       "      <td>Wet</td>\n",
       "      <td>Daylight</td>\n",
       "      <td>NaN</td>\n",
       "      <td>NaN</td>\n",
       "      <td>NaN</td>\n",
       "      <td>10</td>\n",
       "      <td>Entering at angle</td>\n",
       "      <td>0.0</td>\n",
       "      <td>0.0</td>\n",
       "      <td>N</td>\n",
       "    </tr>\n",
       "    <tr>\n",
       "      <th>1</th>\n",
       "      <td>1.0</td>\n",
       "      <td>-122.347294</td>\n",
       "      <td>47.647172</td>\n",
       "      <td>2.0</td>\n",
       "      <td>52200.0</td>\n",
       "      <td>52200.0</td>\n",
       "      <td>2607959</td>\n",
       "      <td>Matched</td>\n",
       "      <td>Block</td>\n",
       "      <td>NaN</td>\n",
       "      <td>...</td>\n",
       "      <td>Wet</td>\n",
       "      <td>Dark - Street Lights On</td>\n",
       "      <td>NaN</td>\n",
       "      <td>6354039.0</td>\n",
       "      <td>NaN</td>\n",
       "      <td>11</td>\n",
       "      <td>From same direction - both going straight - bo...</td>\n",
       "      <td>0.0</td>\n",
       "      <td>0.0</td>\n",
       "      <td>N</td>\n",
       "    </tr>\n",
       "    <tr>\n",
       "      <th>2</th>\n",
       "      <td>1.0</td>\n",
       "      <td>-122.334540</td>\n",
       "      <td>47.607871</td>\n",
       "      <td>3.0</td>\n",
       "      <td>26700.0</td>\n",
       "      <td>26700.0</td>\n",
       "      <td>1482393</td>\n",
       "      <td>Matched</td>\n",
       "      <td>Block</td>\n",
       "      <td>NaN</td>\n",
       "      <td>...</td>\n",
       "      <td>Dry</td>\n",
       "      <td>Daylight</td>\n",
       "      <td>NaN</td>\n",
       "      <td>4323031.0</td>\n",
       "      <td>NaN</td>\n",
       "      <td>32</td>\n",
       "      <td>One parked--one moving</td>\n",
       "      <td>0.0</td>\n",
       "      <td>0.0</td>\n",
       "      <td>N</td>\n",
       "    </tr>\n",
       "    <tr>\n",
       "      <th>3</th>\n",
       "      <td>1.0</td>\n",
       "      <td>-122.334803</td>\n",
       "      <td>47.604803</td>\n",
       "      <td>4.0</td>\n",
       "      <td>1144.0</td>\n",
       "      <td>1144.0</td>\n",
       "      <td>3503937</td>\n",
       "      <td>Matched</td>\n",
       "      <td>Block</td>\n",
       "      <td>NaN</td>\n",
       "      <td>...</td>\n",
       "      <td>Dry</td>\n",
       "      <td>Daylight</td>\n",
       "      <td>NaN</td>\n",
       "      <td>NaN</td>\n",
       "      <td>NaN</td>\n",
       "      <td>23</td>\n",
       "      <td>From same direction - all others</td>\n",
       "      <td>0.0</td>\n",
       "      <td>0.0</td>\n",
       "      <td>N</td>\n",
       "    </tr>\n",
       "    <tr>\n",
       "      <th>4</th>\n",
       "      <td>2.0</td>\n",
       "      <td>-122.306426</td>\n",
       "      <td>47.545739</td>\n",
       "      <td>5.0</td>\n",
       "      <td>17700.0</td>\n",
       "      <td>17700.0</td>\n",
       "      <td>1807429</td>\n",
       "      <td>Matched</td>\n",
       "      <td>Intersection</td>\n",
       "      <td>34387.0</td>\n",
       "      <td>...</td>\n",
       "      <td>Wet</td>\n",
       "      <td>Daylight</td>\n",
       "      <td>NaN</td>\n",
       "      <td>4028032.0</td>\n",
       "      <td>NaN</td>\n",
       "      <td>10</td>\n",
       "      <td>Entering at angle</td>\n",
       "      <td>0.0</td>\n",
       "      <td>0.0</td>\n",
       "      <td>N</td>\n",
       "    </tr>\n",
       "  </tbody>\n",
       "</table>\n",
       "<p>5 rows × 38 columns</p>\n",
       "</div>"
      ],
      "text/plain": [
       "   SEVERITYCODE           X          Y  OBJECTID   INCKEY  COLDETKEY REPORTNO  \\\n",
       "0           2.0 -122.323148  47.703140       1.0   1307.0     1307.0  3502005   \n",
       "1           1.0 -122.347294  47.647172       2.0  52200.0    52200.0  2607959   \n",
       "2           1.0 -122.334540  47.607871       3.0  26700.0    26700.0  1482393   \n",
       "3           1.0 -122.334803  47.604803       4.0   1144.0     1144.0  3503937   \n",
       "4           2.0 -122.306426  47.545739       5.0  17700.0    17700.0  1807429   \n",
       "\n",
       "    STATUS      ADDRTYPE   INTKEY  ... ROADCOND                LIGHTCOND  \\\n",
       "0  Matched  Intersection  37475.0  ...      Wet                 Daylight   \n",
       "1  Matched         Block      NaN  ...      Wet  Dark - Street Lights On   \n",
       "2  Matched         Block      NaN  ...      Dry                 Daylight   \n",
       "3  Matched         Block      NaN  ...      Dry                 Daylight   \n",
       "4  Matched  Intersection  34387.0  ...      Wet                 Daylight   \n",
       "\n",
       "  PEDROWNOTGRNT  SDOTCOLNUM SPEEDING ST_COLCODE  \\\n",
       "0           NaN         NaN      NaN         10   \n",
       "1           NaN   6354039.0      NaN         11   \n",
       "2           NaN   4323031.0      NaN         32   \n",
       "3           NaN         NaN      NaN         23   \n",
       "4           NaN   4028032.0      NaN         10   \n",
       "\n",
       "                                          ST_COLDESC  SEGLANEKEY  \\\n",
       "0                                  Entering at angle         0.0   \n",
       "1  From same direction - both going straight - bo...         0.0   \n",
       "2                             One parked--one moving         0.0   \n",
       "3                   From same direction - all others         0.0   \n",
       "4                                  Entering at angle         0.0   \n",
       "\n",
       "   CROSSWALKKEY  HITPARKEDCAR  \n",
       "0           0.0             N  \n",
       "1           0.0             N  \n",
       "2           0.0             N  \n",
       "3           0.0             N  \n",
       "4           0.0             N  \n",
       "\n",
       "[5 rows x 38 columns]"
      ]
     },
     "execution_count": 11,
     "metadata": {},
     "output_type": "execute_result"
    }
   ],
   "source": [
    "df = pd.read_csv(\"Data-Collisions.csv\")\n",
    "df.head()"
   ]
  },
  {
   "cell_type": "markdown",
   "metadata": {},
   "source": [
    "Now we drop all the data that directly corresponds to another, such as the description, and all of the variables that are assigned for bookkeeping purposes."
   ]
  },
  {
   "cell_type": "code",
   "execution_count": 12,
   "metadata": {},
   "outputs": [
    {
     "data": {
      "text/plain": [
       "Index(['SEVERITYCODE', 'X', 'Y', 'OBJECTID', 'INCKEY', 'COLDETKEY', 'REPORTNO',\n",
       "       'STATUS', 'ADDRTYPE', 'INTKEY', 'LOCATION', 'EXCEPTRSNCODE',\n",
       "       'EXCEPTRSNDESC', 'SEVERITYCODE.1', 'SEVERITYDESC', 'COLLISIONTYPE',\n",
       "       'PERSONCOUNT', 'PEDCOUNT', 'PEDCYLCOUNT', 'VEHCOUNT', 'INCDATE',\n",
       "       'INCDTTM', 'JUNCTIONTYPE', 'SDOT_COLCODE', 'SDOT_COLDESC',\n",
       "       'INATTENTIONIND', 'UNDERINFL', 'WEATHER', 'ROADCOND', 'LIGHTCOND',\n",
       "       'PEDROWNOTGRNT', 'SDOTCOLNUM', 'SPEEDING', 'ST_COLCODE', 'ST_COLDESC',\n",
       "       'SEGLANEKEY', 'CROSSWALKKEY', 'HITPARKEDCAR'],\n",
       "      dtype='object')"
      ]
     },
     "execution_count": 12,
     "metadata": {},
     "output_type": "execute_result"
    }
   ],
   "source": [
    "#Columns in the dataset\n",
    "df.columns"
   ]
  },
  {
   "cell_type": "code",
   "execution_count": 13,
   "metadata": {},
   "outputs": [],
   "source": [
    "#Dropping of irrelevant or redudent columns\n",
    "df.drop(columns = ['OBJECTID','INCKEY','COLDETKEY','REPORTNO','INTKEY', 'EXCEPTRSNDESC', 'EXCEPTRSNCODE', 'SEVERITYDESC', 'SEVERITYCODE.1', 'SDOT_COLDESC', 'SDOTCOLNUM', 'ST_COLDESC'],axis = 1,inplace = True)"
   ]
  },
  {
   "cell_type": "code",
   "execution_count": 14,
   "metadata": {},
   "outputs": [
    {
     "data": {
      "text/html": [
       "<div>\n",
       "<style scoped>\n",
       "    .dataframe tbody tr th:only-of-type {\n",
       "        vertical-align: middle;\n",
       "    }\n",
       "\n",
       "    .dataframe tbody tr th {\n",
       "        vertical-align: top;\n",
       "    }\n",
       "\n",
       "    .dataframe thead th {\n",
       "        text-align: right;\n",
       "    }\n",
       "</style>\n",
       "<table border=\"1\" class=\"dataframe\">\n",
       "  <thead>\n",
       "    <tr style=\"text-align: right;\">\n",
       "      <th></th>\n",
       "      <th>SEVERITYCODE</th>\n",
       "      <th>X</th>\n",
       "      <th>Y</th>\n",
       "      <th>STATUS</th>\n",
       "      <th>ADDRTYPE</th>\n",
       "      <th>LOCATION</th>\n",
       "      <th>COLLISIONTYPE</th>\n",
       "      <th>PERSONCOUNT</th>\n",
       "      <th>PEDCOUNT</th>\n",
       "      <th>PEDCYLCOUNT</th>\n",
       "      <th>...</th>\n",
       "      <th>UNDERINFL</th>\n",
       "      <th>WEATHER</th>\n",
       "      <th>ROADCOND</th>\n",
       "      <th>LIGHTCOND</th>\n",
       "      <th>PEDROWNOTGRNT</th>\n",
       "      <th>SPEEDING</th>\n",
       "      <th>ST_COLCODE</th>\n",
       "      <th>SEGLANEKEY</th>\n",
       "      <th>CROSSWALKKEY</th>\n",
       "      <th>HITPARKEDCAR</th>\n",
       "    </tr>\n",
       "  </thead>\n",
       "  <tbody>\n",
       "    <tr>\n",
       "      <th>0</th>\n",
       "      <td>2.0</td>\n",
       "      <td>-122.323148</td>\n",
       "      <td>47.703140</td>\n",
       "      <td>Matched</td>\n",
       "      <td>Intersection</td>\n",
       "      <td>5TH AVE NE AND NE 103RD ST</td>\n",
       "      <td>Angles</td>\n",
       "      <td>2.0</td>\n",
       "      <td>0.0</td>\n",
       "      <td>0.0</td>\n",
       "      <td>...</td>\n",
       "      <td>N</td>\n",
       "      <td>Overcast</td>\n",
       "      <td>Wet</td>\n",
       "      <td>Daylight</td>\n",
       "      <td>NaN</td>\n",
       "      <td>NaN</td>\n",
       "      <td>10</td>\n",
       "      <td>0.0</td>\n",
       "      <td>0.0</td>\n",
       "      <td>N</td>\n",
       "    </tr>\n",
       "    <tr>\n",
       "      <th>1</th>\n",
       "      <td>1.0</td>\n",
       "      <td>-122.347294</td>\n",
       "      <td>47.647172</td>\n",
       "      <td>Matched</td>\n",
       "      <td>Block</td>\n",
       "      <td>AURORA BR BETWEEN RAYE ST AND BRIDGE WAY N</td>\n",
       "      <td>Sideswipe</td>\n",
       "      <td>2.0</td>\n",
       "      <td>0.0</td>\n",
       "      <td>0.0</td>\n",
       "      <td>...</td>\n",
       "      <td>0</td>\n",
       "      <td>Raining</td>\n",
       "      <td>Wet</td>\n",
       "      <td>Dark - Street Lights On</td>\n",
       "      <td>NaN</td>\n",
       "      <td>NaN</td>\n",
       "      <td>11</td>\n",
       "      <td>0.0</td>\n",
       "      <td>0.0</td>\n",
       "      <td>N</td>\n",
       "    </tr>\n",
       "    <tr>\n",
       "      <th>2</th>\n",
       "      <td>1.0</td>\n",
       "      <td>-122.334540</td>\n",
       "      <td>47.607871</td>\n",
       "      <td>Matched</td>\n",
       "      <td>Block</td>\n",
       "      <td>4TH AVE BETWEEN SENECA ST AND UNIVERSITY ST</td>\n",
       "      <td>Parked Car</td>\n",
       "      <td>4.0</td>\n",
       "      <td>0.0</td>\n",
       "      <td>0.0</td>\n",
       "      <td>...</td>\n",
       "      <td>0</td>\n",
       "      <td>Overcast</td>\n",
       "      <td>Dry</td>\n",
       "      <td>Daylight</td>\n",
       "      <td>NaN</td>\n",
       "      <td>NaN</td>\n",
       "      <td>32</td>\n",
       "      <td>0.0</td>\n",
       "      <td>0.0</td>\n",
       "      <td>N</td>\n",
       "    </tr>\n",
       "    <tr>\n",
       "      <th>3</th>\n",
       "      <td>1.0</td>\n",
       "      <td>-122.334803</td>\n",
       "      <td>47.604803</td>\n",
       "      <td>Matched</td>\n",
       "      <td>Block</td>\n",
       "      <td>2ND AVE BETWEEN MARION ST AND MADISON ST</td>\n",
       "      <td>Other</td>\n",
       "      <td>3.0</td>\n",
       "      <td>0.0</td>\n",
       "      <td>0.0</td>\n",
       "      <td>...</td>\n",
       "      <td>N</td>\n",
       "      <td>Clear</td>\n",
       "      <td>Dry</td>\n",
       "      <td>Daylight</td>\n",
       "      <td>NaN</td>\n",
       "      <td>NaN</td>\n",
       "      <td>23</td>\n",
       "      <td>0.0</td>\n",
       "      <td>0.0</td>\n",
       "      <td>N</td>\n",
       "    </tr>\n",
       "    <tr>\n",
       "      <th>4</th>\n",
       "      <td>2.0</td>\n",
       "      <td>-122.306426</td>\n",
       "      <td>47.545739</td>\n",
       "      <td>Matched</td>\n",
       "      <td>Intersection</td>\n",
       "      <td>SWIFT AVE S AND SWIFT AV OFF RP</td>\n",
       "      <td>Angles</td>\n",
       "      <td>2.0</td>\n",
       "      <td>0.0</td>\n",
       "      <td>0.0</td>\n",
       "      <td>...</td>\n",
       "      <td>0</td>\n",
       "      <td>Raining</td>\n",
       "      <td>Wet</td>\n",
       "      <td>Daylight</td>\n",
       "      <td>NaN</td>\n",
       "      <td>NaN</td>\n",
       "      <td>10</td>\n",
       "      <td>0.0</td>\n",
       "      <td>0.0</td>\n",
       "      <td>N</td>\n",
       "    </tr>\n",
       "  </tbody>\n",
       "</table>\n",
       "<p>5 rows × 26 columns</p>\n",
       "</div>"
      ],
      "text/plain": [
       "   SEVERITYCODE           X          Y   STATUS      ADDRTYPE  \\\n",
       "0           2.0 -122.323148  47.703140  Matched  Intersection   \n",
       "1           1.0 -122.347294  47.647172  Matched         Block   \n",
       "2           1.0 -122.334540  47.607871  Matched         Block   \n",
       "3           1.0 -122.334803  47.604803  Matched         Block   \n",
       "4           2.0 -122.306426  47.545739  Matched  Intersection   \n",
       "\n",
       "                                      LOCATION COLLISIONTYPE  PERSONCOUNT  \\\n",
       "0                   5TH AVE NE AND NE 103RD ST        Angles          2.0   \n",
       "1   AURORA BR BETWEEN RAYE ST AND BRIDGE WAY N     Sideswipe          2.0   \n",
       "2  4TH AVE BETWEEN SENECA ST AND UNIVERSITY ST    Parked Car          4.0   \n",
       "3     2ND AVE BETWEEN MARION ST AND MADISON ST         Other          3.0   \n",
       "4              SWIFT AVE S AND SWIFT AV OFF RP        Angles          2.0   \n",
       "\n",
       "   PEDCOUNT  PEDCYLCOUNT  ...  UNDERINFL   WEATHER ROADCOND  \\\n",
       "0       0.0          0.0  ...          N  Overcast      Wet   \n",
       "1       0.0          0.0  ...          0   Raining      Wet   \n",
       "2       0.0          0.0  ...          0  Overcast      Dry   \n",
       "3       0.0          0.0  ...          N     Clear      Dry   \n",
       "4       0.0          0.0  ...          0   Raining      Wet   \n",
       "\n",
       "                 LIGHTCOND  PEDROWNOTGRNT SPEEDING ST_COLCODE SEGLANEKEY  \\\n",
       "0                 Daylight            NaN      NaN         10        0.0   \n",
       "1  Dark - Street Lights On            NaN      NaN         11        0.0   \n",
       "2                 Daylight            NaN      NaN         32        0.0   \n",
       "3                 Daylight            NaN      NaN         23        0.0   \n",
       "4                 Daylight            NaN      NaN         10        0.0   \n",
       "\n",
       "  CROSSWALKKEY HITPARKEDCAR  \n",
       "0          0.0            N  \n",
       "1          0.0            N  \n",
       "2          0.0            N  \n",
       "3          0.0            N  \n",
       "4          0.0            N  \n",
       "\n",
       "[5 rows x 26 columns]"
      ]
     },
     "execution_count": 14,
     "metadata": {},
     "output_type": "execute_result"
    }
   ],
   "source": [
    "df.head()"
   ]
  },
  {
   "cell_type": "markdown",
   "metadata": {},
   "source": [
    "To get some basic examples of interactions we produce the following graphs"
   ]
  },
  {
   "cell_type": "code",
   "execution_count": 15,
   "metadata": {},
   "outputs": [
    {
     "data": {
      "image/png": "[encoded data removed]",
      "text/plain": [
       "<Figure size 864x432 with 1 Axes>"
      ]
     },
     "metadata": {
      "needs_background": "light"
     },
     "output_type": "display_data"
    }
   ],
   "source": [
    "plt.figure(figsize = (12,6))\n",
    "df.groupby(\"COLLISIONTYPE\")[\"SEVERITYCODE\"].value_counts().plot(kind='bar');"
   ]
  },
  {
   "cell_type": "markdown",
   "metadata": {},
   "source": [
    "As you can see, there are several variables that could indicate a difference in severity, such as Other, Parked Car, Pedestrian, and Sideswipe. "
   ]
  },
  {
   "cell_type": "markdown",
   "metadata": {},
   "source": [
    "Now we explore the pedestrian, bicycle, and vehicle count variables."
   ]
  },
  {
   "cell_type": "code",
   "execution_count": 16,
   "metadata": {},
   "outputs": [
    {
     "data": {
      "image/png": "[encoded data removed]",
      "text/plain": [
       "<Figure size 864x432 with 1 Axes>"
      ]
     },
     "metadata": {
      "needs_background": "light"
     },
     "output_type": "display_data"
    }
   ],
   "source": [
    "#Here we include all possible person counts\n",
    "plt.figure(figsize = (12,6))\n",
    "df.groupby(\"PERSONCOUNT\")[\"SEVERITYCODE\"].value_counts().plot(kind='bar');"
   ]
  },
  {
   "cell_type": "markdown",
   "metadata": {},
   "source": [
    "As you can see, there are only a few columns that have a large amount of entries. We restrict the graph for a better view."
   ]
  },
  {
   "cell_type": "code",
   "execution_count": 23,
   "metadata": {},
   "outputs": [
    {
     "data": {
      "image/png": "[encoded data removed]",
      "text/plain": [
       "<Figure size 864x432 with 1 Axes>"
      ]
     },
     "metadata": {
      "needs_background": "light"
     },
     "output_type": "display_data"
    }
   ],
   "source": [
    "plt.figure(figsize = (12,6))\n",
    "df.groupby(\"PERSONCOUNT\")[\"SEVERITYCODE\"].value_counts().head(16).plot(kind='bar');"
   ]
  },
  {
   "cell_type": "code",
   "execution_count": 24,
   "metadata": {},
   "outputs": [
    {
     "data": {
      "image/png": "[encoded data removed]",
      "text/plain": [
       "<Figure size 864x432 with 1 Axes>"
      ]
     },
     "metadata": {
      "needs_background": "light"
     },
     "output_type": "display_data"
    }
   ],
   "source": [
    "#Here we include all possible pedestrian counts\n",
    "plt.figure(figsize = (12,6))\n",
    "df.groupby(\"PEDCOUNT\")[\"SEVERITYCODE\"].value_counts().plot(kind='bar');"
   ]
  },
  {
   "cell_type": "code",
   "execution_count": 26,
   "metadata": {},
   "outputs": [
    {
     "data": {
      "image/png": "[encoded data removed]",
      "text/plain": [
       "<Figure size 864x432 with 1 Axes>"
      ]
     },
     "metadata": {
      "needs_background": "light"
     },
     "output_type": "display_data"
    }
   ],
   "source": [
    "#Here we include all possible cyclist counts\n",
    "plt.figure(figsize = (12,6))\n",
    "df.groupby(\"PEDCYLCOUNT\")[\"SEVERITYCODE\"].value_counts().plot(kind='bar');"
   ]
  },
  {
   "cell_type": "markdown",
   "metadata": {},
   "source": [
    "Now we look at inattention and under the influence drivers."
   ]
  },
  {
   "cell_type": "code",
   "execution_count": 27,
   "metadata": {},
   "outputs": [
    {
     "data": {
      "image/png": "[encoded data removed]",
      "text/plain": [
       "<Figure size 864x432 with 1 Axes>"
      ]
     },
     "metadata": {
      "needs_background": "light"
     },
     "output_type": "display_data"
    }
   ],
   "source": [
    "#Here we include all inattentive\n",
    "plt.figure(figsize = (12,6))\n",
    "df.groupby(\"INATTENTIONIND\")[\"SEVERITYCODE\"].value_counts().plot(kind='bar');"
   ]
  },
  {
   "cell_type": "code",
   "execution_count": 28,
   "metadata": {},
   "outputs": [
    {
     "data": {
      "image/png": "[encoded data removed]",
      "text/plain": [
       "<Figure size 864x432 with 1 Axes>"
      ]
     },
     "metadata": {
      "needs_background": "light"
     },
     "output_type": "display_data"
    }
   ],
   "source": [
    "#Here we include all possible person counts\n",
    "plt.figure(figsize = (12,6))\n",
    "df.groupby(\"UNDERINFL\")[\"SEVERITYCODE\"].value_counts().plot(kind='bar');"
   ]
  },
  {
   "cell_type": "markdown",
   "metadata": {},
   "source": [
    "Inattention and under the influence drivers seem to have an impact as to whether there was an injury or not."
   ]
  },
  {
   "cell_type": "markdown",
   "metadata": {},
   "source": [
    "For the last example, we look at weather."
   ]
  },
  {
   "cell_type": "code",
   "execution_count": 30,
   "metadata": {},
   "outputs": [
    {
     "data": {
      "image/png": "[encoded data removed]",
      "text/plain": [
       "<Figure size 864x432 with 1 Axes>"
      ]
     },
     "metadata": {
      "needs_background": "light"
     },
     "output_type": "display_data"
    }
   ],
   "source": [
    "#Here we include all weather conditions\n",
    "plt.figure(figsize = (12,6))\n",
    "df.groupby(\"WEATHER\")[\"SEVERITYCODE\"].value_counts().plot(kind='bar');"
   ]
  },
  {
   "cell_type": "code",
   "execution_count": null,
   "metadata": {},
   "outputs": [],
   "source": []
  }
 ],
 "metadata": {
  "kernelspec": {
   "display_name": "Python 3",
   "language": "python",
   "name": "python3"
  },
  "language_info": {
   "codemirror_mode": {
    "name": "ipython",
    "version": 3
   },
   "file_extension": ".py",
   "mimetype": "text/x-python",
   "name": "python",
   "nbconvert_exporter": "python",
   "pygments_lexer": "ipython3",
   "version": "3.7.6"
  }
 },
 "nbformat": 4,
 "nbformat_minor": 4
}
